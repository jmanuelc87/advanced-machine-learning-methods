{
 "cells": [
  {
   "cell_type": "markdown",
   "id": "940c6dbc",
   "metadata": {},
   "source": [
    "## TC 5033\n",
    "### Word Embeddings\n",
    "\n",
    "<br>\n",
    "\n",
    "#### Activity 3b: Text Classification using RNNs and AG_NEWS dataset in PyTorch\n",
    "<br>\n",
    "\n",
    "- Objective:\n",
    "    - Understand the basics of Recurrent Neural Networks (RNNs) and their application in text classification.\n",
    "    - Learn how to handle a real-world text dataset, AG_NEWS, in PyTorch.\n",
    "    - Gain hands-on experience in defining, training, and evaluating a text classification model in PyTorch.\n",
    "    \n",
    "<br>\n",
    "\n",
    "- Instructions:\n",
    "    - Data Preparation: Starter code will be provided that loads the AG_NEWS dataset and prepares it for training. Do not modify this part. However, you should be sure to understand it, and comment it, the use of markdown cells is suggested. \n",
    "\n",
    "    - Model Setup: A skeleton code for the RNN model class will be provided. Complete this class and use it to instantiate your model.\n",
    "\n",
    "    - Implementing Accuracy Function: Write a function that takes model predictions and ground truth labels as input and returns the model's accuracy.\n",
    "\n",
    "    - Training Function: Implement a function that performs training on the given model using the AG_NEWS dataset. Your model should achieve an accuracy of at least 80% to get full marks for this part.\n",
    "\n",
    "    - Text Sampling: Write a function that takes a sample text as input and classifies it using your trained model.\n",
    "\n",
    "    - Confusion Matrix: Implement a function to display the confusion matrix for your model on the test data.\n",
    "\n",
    "    - Submission: Submit your completed Jupyter Notebook. Make sure to include a markdown cell at the beginning of the notebook that lists the names of all team members. Teams should consist of 3 to 4 members.\n",
    "    \n",
    "<br>\n",
    "\n",
    "- Evaluation Criteria:\n",
    "\n",
    "    - Correct setup of all the required libraries and modules (10%)\n",
    "    - Code Quality (30%): Your code should be well-organized, clearly commented, and easy to follow. Use also markdown cells for clarity. Comments should be given for all the provided code, this will help you understand its functionality.\n",
    "    \n",
    "   - Functionality (60%): \n",
    "        - All the functions should execute without errors and provide the expected outputs.\n",
    "        - RNN model class (20%)\n",
    "        - Accuracy fucntion (10%)\n",
    "        - Training function (10%)\n",
    "        - Sampling function (10%)\n",
    "        - Confucion matrix (10%)\n",
    "\n",
    "        - The model should achieve at least an 80% accuracy on the AG_NEWS test set for full marks in this criterion.\n"
   ]
  },
  {
   "cell_type": "markdown",
   "id": "4de318da",
   "metadata": {},
   "source": [
    "Dataset\n",
    "\n",
    "https://pytorch.org/text/stable/datasets.html#text-classification\n",
    "\n",
    "https://paperswithcode.com/dataset/ag-news\n"
   ]
  },
  {
   "cell_type": "markdown",
   "id": "6a65c9b6",
   "metadata": {},
   "source": [
    "Students:\n",
    "\n",
    "- Juan Manuel Carballo          A01166758\n",
    "- Paola Estrada Warn            A01795663\n",
    "- Christopher Flores González   A01795419\n",
    "- Jorge Pedroza Rivera          A01319553\n",
    "- Victor Hugo Avila Felipe      A01794425"
   ]
  },
  {
   "cell_type": "markdown",
   "id": "4a9801f9",
   "metadata": {},
   "source": [
    "### Import libraries"
   ]
  },
  {
   "cell_type": "code",
   "execution_count": 1,
   "id": "54394f53",
   "metadata": {},
   "outputs": [],
   "source": [
    "# install specific version of pytorch and torchtext because of compatibility issues\n",
    "# %conda install pytorch==2.3.0 torchtext==0.18.0 torchdata pytorch-cuda=12.1 -c pytorch -c nvidia\n",
    "# %conda install -c conda-forge portalocker>=2.0.0\n",
    "# %pip install -U -q numpy\n",
    "# %pip install matplotlib seaborn\n",
    "# %pip install -q torchinfo\n",
    "# %pip install -q scikit-learn"
   ]
  },
  {
   "cell_type": "code",
   "execution_count": 2,
   "id": "878b524f",
   "metadata": {},
   "outputs": [],
   "source": [
    "import torch\n",
    "import torch.hub\n",
    "import torch.nn as nn\n",
    "import torch.nn.functional as F\n",
    "import torch.utils.data as tdata\n",
    "import torch.utils.data.dataset as tdataset\n",
    "\n",
    "import torchtext\n",
    "torchtext.disable_torchtext_deprecation_warning()\n",
    "\n",
    "import torchtext.transforms as T\n",
    "\n",
    "from torchtext.datasets import AG_NEWS\n",
    "from torchtext.data.functional import to_map_style_dataset\n",
    "from torchtext.data.utils import get_tokenizer\n",
    "from torchtext.vocab import build_vocab_from_iterator\n",
    "\n",
    "from sklearn.metrics import confusion_matrix, ConfusionMatrixDisplay\n",
    "\n",
    "from torchinfo import summary"
   ]
  },
  {
   "cell_type": "code",
   "execution_count": 3,
   "id": "3bab55f3",
   "metadata": {},
   "outputs": [
    {
     "name": "stdout",
     "output_type": "stream",
     "text": [
      "Available device: cuda\n"
     ]
    }
   ],
   "source": [
    "if torch.backends.mps.is_available():\n",
    "    device = torch.device('mps')\n",
    "else:\n",
    "    device = torch.device('cuda' if torch.cuda.is_available() else 'cpu')\n",
    "    if device.type == 'cuda':\n",
    "        # Allow TensorFloat32 on matmul and convolutions\n",
    "        torch.backends.cuda.matmul.allow_tf32 = True\n",
    "        torch.set_float32_matmul_precision(\"medium\")\n",
    "\n",
    "print(f\"Available device: {device.type}\")"
   ]
  },
  {
   "cell_type": "markdown",
   "id": "3d38956d",
   "metadata": {},
   "source": [
    "### Get the train and the test datasets and dataloaders"
   ]
  },
  {
   "cell_type": "markdown",
   "id": "e9c6b784",
   "metadata": {},
   "source": [
    "Classes:\n",
    "\n",
    "* 1 - World\n",
    "\n",
    "* 2 - Sports\n",
    "\n",
    "* 3 - Business\n",
    "\n",
    "* 4 - Sci/Tech\n",
    "\n",
    "We will convert them to:\n",
    "\n",
    "* 0 - World\n",
    "\n",
    "* 1 - Sports\n",
    "\n",
    "* 2 - Business\n",
    "\n",
    "* 3 - Sci/Tech"
   ]
  },
  {
   "cell_type": "code",
   "execution_count": 4,
   "id": "4b7aa1fe",
   "metadata": {},
   "outputs": [
    {
     "name": "stderr",
     "output_type": "stream",
     "text": [
      "c:\\Users\\jmanuelc87\\Documents\\Projects\\advanced-machine-learning-methods\\.conda\\Lib\\site-packages\\torchdata\\datapipes\\__init__.py:18: UserWarning: \n",
      "################################################################################\n",
      "WARNING!\n",
      "The 'datapipes', 'dataloader2' modules are deprecated and will be removed in a\n",
      "future torchdata release! Please see https://github.com/pytorch/data/issues/1196\n",
      "to learn more and leave feedback.\n",
      "################################################################################\n",
      "\n",
      "  deprecation_warning()\n"
     ]
    }
   ],
   "source": [
    "# Download our train and valid data\n",
    "train_dataset, test_dataset = AG_NEWS(root='../ag_news')\n",
    "train_dataset, test_dataset = to_map_style_dataset(train_dataset), to_map_style_dataset(test_dataset)"
   ]
  },
  {
   "cell_type": "code",
   "execution_count": 5,
   "id": "045a3b6d",
   "metadata": {},
   "outputs": [],
   "source": [
    "NUM_TRAIN = int(len(train_dataset) * 0.9)\n",
    "NUM_VALID = len(train_dataset) - NUM_TRAIN"
   ]
  },
  {
   "cell_type": "code",
   "execution_count": 6,
   "id": "5f4be9cb",
   "metadata": {},
   "outputs": [],
   "source": [
    "train_dataset, valid_dataset = tdataset.random_split(train_dataset, [NUM_TRAIN, NUM_VALID])"
   ]
  },
  {
   "cell_type": "code",
   "execution_count": 7,
   "id": "eb73397d",
   "metadata": {},
   "outputs": [],
   "source": [
    "tokenizer_fn = get_tokenizer('basic_english')\n",
    "\n",
    "def yield_tokens(data):\n",
    "    for _, text in data:\n",
    "        yield tokenizer_fn(text)\n",
    "        \n",
    "# Build the vocabulary\n",
    "vocab = build_vocab_from_iterator(yield_tokens(train_dataset), specials=[\"<unk>\"])\n",
    "#set unknown token at position 0\n",
    "vocab.set_default_index(vocab[\"<unk>\"])"
   ]
  },
  {
   "cell_type": "code",
   "execution_count": 8,
   "id": "abbbfa1f",
   "metadata": {},
   "outputs": [],
   "source": [
    "MAX_SEQ_LEN = 50\n",
    "BATCH_SIZE = 64\n",
    "GLOVE_DIM = 50"
   ]
  },
  {
   "cell_type": "code",
   "execution_count": 9,
   "id": "45b57e1f",
   "metadata": {},
   "outputs": [],
   "source": [
    "class TokenizerTransform(nn.Module):\n",
    "    \n",
    "    def __init__(self, tokenizer):\n",
    "        super(TokenizerTransform, self).__init__()\n",
    "        self.tokenizer = tokenizer\n",
    "    \n",
    "    def forward(self, batch):\n",
    "        return [ self.tokenizer(line) for line in batch ]"
   ]
  },
  {
   "cell_type": "code",
   "execution_count": 10,
   "id": "8afa5b54",
   "metadata": {},
   "outputs": [],
   "source": [
    "text_transforms = T.Sequential(\n",
    "    TokenizerTransform(tokenizer=tokenizer_fn),\n",
    "    T.VocabTransform(vocab=vocab),\n",
    "    T.Truncate(max_seq_len=MAX_SEQ_LEN),\n",
    "    T.ToTensor(padding_value=0, dtype=torch.int32),\n",
    "    T.PadTransform(max_length=MAX_SEQ_LEN, pad_value=0),\n",
    ")"
   ]
  },
  {
   "cell_type": "code",
   "execution_count": 11,
   "id": "35dd1023",
   "metadata": {},
   "outputs": [],
   "source": [
    "def collate_batch_fn(batch):\n",
    "    y, x = list(zip(*batch))\n",
    "    transformed = text_transforms(list(x))\n",
    "    return transformed, torch.tensor(y, dtype=torch.int32) - 1"
   ]
  },
  {
   "cell_type": "code",
   "execution_count": 12,
   "id": "54a1f0b9",
   "metadata": {},
   "outputs": [],
   "source": [
    "train_loader = tdata.DataLoader(train_dataset, batch_size=BATCH_SIZE, collate_fn=collate_batch_fn, shuffle=True)\n",
    "valid_loader = tdata.DataLoader(valid_dataset, batch_size=BATCH_SIZE, collate_fn=collate_batch_fn, shuffle=True)\n",
    "test_loader = tdata.DataLoader(test_dataset, batch_size=BATCH_SIZE, collate_fn=collate_batch_fn, shuffle=True)"
   ]
  },
  {
   "cell_type": "code",
   "execution_count": 13,
   "id": "45b7600c",
   "metadata": {},
   "outputs": [
    {
     "name": "stdout",
     "output_type": "stream",
     "text": [
      "tensor([[    5, 17101,     7,  ...,     0,     0,     0],\n",
      "        [  200,    98,     3,  ...,     0,     0,     0],\n",
      "        [12496,   406,   317,  ...,     0,     0,     0],\n",
      "        ...,\n",
      "        [   36,  1079,    11,  ...,   276,  2796,    75],\n",
      "        [ 4515, 12416,     3,  ...,     0,     0,     0],\n",
      "        [  319,  2520,  1896,  ...,  4229,   748,    26]], dtype=torch.int32)\n"
     ]
    }
   ],
   "source": [
    "for x, _ in train_loader:\n",
    "    print(x)\n",
    "    break"
   ]
  },
  {
   "cell_type": "markdown",
   "id": "ce90145f",
   "metadata": {},
   "source": [
    "### Definition of train and validate functions"
   ]
  },
  {
   "cell_type": "code",
   "execution_count": 14,
   "id": "5260b632",
   "metadata": {},
   "outputs": [],
   "source": [
    "def get_batch_accuracy(y_pred, y_true, N):\n",
    "    _, y_hat = torch.max(y_pred, dim=1)\n",
    "    correct = torch.sum(y_hat == y_true)\n",
    "    acc = correct / N\n",
    "    return acc"
   ]
  },
  {
   "cell_type": "code",
   "execution_count": 15,
   "id": "5380c1a4",
   "metadata": {},
   "outputs": [],
   "source": [
    "def train(model, optimizer, loss_function, dataloader, train_N):\n",
    "    loss = 0\n",
    "    accuracy = 0\n",
    "\n",
    "    model.train()\n",
    "    for x, y in dataloader:\n",
    "        x, y = x.to(device), y.type(torch.LongTensor).to(device)\n",
    "        output = model(x)\n",
    "        optimizer.zero_grad()\n",
    "        batch_loss = loss_function(output, y)\n",
    "        batch_loss.backward()\n",
    "        optimizer.step()\n",
    "\n",
    "        loss += batch_loss.item()\n",
    "        accuracy += get_batch_accuracy(output, y, train_N)\n",
    "    print('Train - Loss: {:.4f} Accuracy: {:.4f}'.format(loss, accuracy))"
   ]
  },
  {
   "cell_type": "code",
   "execution_count": 16,
   "id": "bf2cffd4",
   "metadata": {},
   "outputs": [],
   "source": [
    "def validate(model, loss_function, dataloader, valid_N):\n",
    "    loss = 0\n",
    "    accuracy = 0\n",
    "\n",
    "    model.eval()\n",
    "    with torch.no_grad():\n",
    "        for x, y in dataloader:\n",
    "            x, y = x.to(device), y.type(torch.LongTensor).to(device)\n",
    "            output = model(x)\n",
    "\n",
    "            loss += loss_function(output, y).item()\n",
    "            accuracy += get_batch_accuracy(output, y, valid_N)\n",
    "    print('Valid - Loss: {:.4f} Accuracy: {:.4f}'.format(loss, accuracy))"
   ]
  },
  {
   "cell_type": "markdown",
   "id": "8e65ef16",
   "metadata": {},
   "source": [
    "### First Model"
   ]
  },
  {
   "cell_type": "code",
   "execution_count": 17,
   "id": "e8bb08e9",
   "metadata": {},
   "outputs": [],
   "source": [
    "class ConvNewsNet(nn.Module):\n",
    "\n",
    "    def __init__(self, vocab_size, embedding_dim):\n",
    "        super(ConvNewsNet, self).__init__()\n",
    "\n",
    "        self.conv1 = nn.Sequential(\n",
    "            nn.Embedding(num_embeddings=vocab_size, embedding_dim=embedding_dim),\n",
    "            nn.Flatten(start_dim=2),\n",
    "            nn.Conv1d(50, 100, kernel_size=5, padding=2),\n",
    "            nn.BatchNorm1d(100),\n",
    "            nn.ReLU(inplace=True),\n",
    "            nn.MaxPool1d(5),            \n",
    "            nn.Conv1d(100, 200, kernel_size=5, padding=2),\n",
    "            nn.BatchNorm1d(200),\n",
    "            nn.ReLU(inplace=True),\n",
    "            nn.MaxPool1d(5),\n",
    "            nn.Conv1d(200, 400, kernel_size=5, padding=2),\n",
    "            nn.BatchNorm1d(400),\n",
    "            nn.ReLU(inplace=True),\n",
    "        )\n",
    "\n",
    "        self.linear = nn.Sequential(\n",
    "            nn.Flatten(),\n",
    "            nn.Linear(400, 4)\n",
    "        )\n",
    "\n",
    "    def forward(self, input):\n",
    "        x = input\n",
    "        x = self.conv1(x)\n",
    "        x = F.avg_pool1d(x, kernel_size=2)\n",
    "        x = self.linear(x)\n",
    "        return x"
   ]
  },
  {
   "cell_type": "markdown",
   "id": "1e52ac8b",
   "metadata": {},
   "source": [
    "Define optimizer and loss function"
   ]
  },
  {
   "cell_type": "code",
   "execution_count": 18,
   "id": "db3321c9",
   "metadata": {},
   "outputs": [
    {
     "data": {
      "text/plain": [
       "==========================================================================================\n",
       "Layer (type:depth-idx)                   Output Shape              Param #\n",
       "==========================================================================================\n",
       "ConvNewsNet                              [64, 4]                   --\n",
       "├─Sequential: 1-1                        [64, 400, 2]              --\n",
       "│    └─Embedding: 2-1                    [64, 50, 50]              4,553,200\n",
       "│    └─Flatten: 2-2                      [64, 50, 50]              --\n",
       "│    └─Conv1d: 2-3                       [64, 100, 50]             25,100\n",
       "│    └─BatchNorm1d: 2-4                  [64, 100, 50]             200\n",
       "│    └─ReLU: 2-5                         [64, 100, 50]             --\n",
       "│    └─MaxPool1d: 2-6                    [64, 100, 10]             --\n",
       "│    └─Conv1d: 2-7                       [64, 200, 10]             100,200\n",
       "│    └─BatchNorm1d: 2-8                  [64, 200, 10]             400\n",
       "│    └─ReLU: 2-9                         [64, 200, 10]             --\n",
       "│    └─MaxPool1d: 2-10                   [64, 200, 2]              --\n",
       "│    └─Conv1d: 2-11                      [64, 400, 2]              400,400\n",
       "│    └─BatchNorm1d: 2-12                 [64, 400, 2]              800\n",
       "│    └─ReLU: 2-13                        [64, 400, 2]              --\n",
       "├─Sequential: 1-2                        [64, 4]                   --\n",
       "│    └─Flatten: 2-14                     [64, 400]                 --\n",
       "│    └─Linear: 2-15                      [64, 4]                   1,604\n",
       "==========================================================================================\n",
       "Total params: 5,081,904\n",
       "Trainable params: 5,081,904\n",
       "Non-trainable params: 0\n",
       "Total mult-adds (Units.MEGABYTES): 487.30\n",
       "==========================================================================================\n",
       "Input size (MB): 0.01\n",
       "Forward/backward pass size (MB): 9.27\n",
       "Params size (MB): 20.33\n",
       "Estimated Total Size (MB): 29.61\n",
       "=========================================================================================="
      ]
     },
     "execution_count": 18,
     "metadata": {},
     "output_type": "execute_result"
    }
   ],
   "source": [
    "conv_model = ConvNewsNet(vocab_size=len(vocab), embedding_dim=GLOVE_DIM).to(device)\n",
    "\n",
    "loss_function = nn.CrossEntropyLoss()\n",
    "optimizer = torch.optim.RMSprop(conv_model.parameters())\n",
    "\n",
    "input_data, _ = next(iter(train_loader))\n",
    "\n",
    "summary(conv_model, input_data=input_data.to(device))"
   ]
  },
  {
   "cell_type": "markdown",
   "id": "1b2b1bf0",
   "metadata": {},
   "source": [
    "Train the conv model"
   ]
  },
  {
   "cell_type": "code",
   "execution_count": 19,
   "id": "82418bfb",
   "metadata": {},
   "outputs": [
    {
     "name": "stdout",
     "output_type": "stream",
     "text": [
      "Epoch: 1\n",
      "Train - Loss: 689.6164 Accuracy: 0.8572\n",
      "Valid - Loss: 50.2629 Accuracy: 0.9085\n",
      "Epoch: 2\n",
      "Train - Loss: 317.8326 Accuracy: 0.9360\n",
      "Valid - Loss: 47.1495 Accuracy: 0.9165\n",
      "Epoch: 3\n",
      "Train - Loss: 219.8456 Accuracy: 0.9557\n",
      "Valid - Loss: 48.2432 Accuracy: 0.9183\n",
      "Epoch: 4\n",
      "Train - Loss: 132.6806 Accuracy: 0.9738\n",
      "Valid - Loss: 59.1494 Accuracy: 0.9107\n",
      "Epoch: 5\n",
      "Train - Loss: 73.1009 Accuracy: 0.9857\n",
      "Valid - Loss: 71.0868 Accuracy: 0.9054\n"
     ]
    }
   ],
   "source": [
    "epochs = 5\n",
    "\n",
    "for epoch in range(epochs):\n",
    "    print('Epoch: {}'.format(epoch + 1))\n",
    "    train(conv_model, optimizer, loss_function, train_loader, len(train_dataset))\n",
    "    validate(conv_model, loss_function, valid_loader, len(valid_dataset))"
   ]
  },
  {
   "cell_type": "markdown",
   "id": "24e7c6ba",
   "metadata": {},
   "source": [
    "### Second model"
   ]
  },
  {
   "cell_type": "code",
   "execution_count": 20,
   "id": "e46f9fc6",
   "metadata": {},
   "outputs": [],
   "source": [
    "class RNNNewsNet(nn.Module):\n",
    "    \n",
    "    def __init__(self, vocab_size, embedding_dim, hidden_size):\n",
    "        super(RNNNewsNet, self).__init__()\n",
    "        \n",
    "        self.rnn1 = nn.Sequential(\n",
    "            nn.Embedding(num_embeddings=vocab_size, embedding_dim=embedding_dim),\n",
    "            nn.LSTM(embedding_dim, hidden_size=hidden_size, num_layers=3, batch_first=True),\n",
    "        )\n",
    "        \n",
    "        self.dropout = nn.Dropout(p=.2)\n",
    "        \n",
    "        self.rnn2 = nn.Sequential(\n",
    "            nn.AvgPool1d(2),\n",
    "            nn.LSTM(embedding_dim//2, hidden_size=hidden_size//2, num_layers=2, batch_first=True),\n",
    "        )\n",
    "        \n",
    "        self.rnn3 = nn.Sequential(\n",
    "            nn.AvgPool1d(5),\n",
    "            nn.LSTM((embedding_dim//2)//5, hidden_size=(hidden_size//2)//5, num_layers=1, batch_first=True),\n",
    "        )\n",
    "        \n",
    "        self.fc = nn.Sequential(\n",
    "            nn.Flatten(),\n",
    "            nn.Linear(250, 4),\n",
    "        )\n",
    "        \n",
    "    def forward(self, input):\n",
    "        x = input\n",
    "        x, _ = self.rnn1(x)\n",
    "        x = self.dropout(x)\n",
    "        x, _ = self.rnn2(x)\n",
    "        x = self.dropout(x)\n",
    "        x, _ = self.rnn3(x)\n",
    "        x = self.fc(x)\n",
    "        return x"
   ]
  },
  {
   "cell_type": "code",
   "execution_count": 21,
   "id": "4d367987",
   "metadata": {},
   "outputs": [
    {
     "data": {
      "text/plain": [
       "==========================================================================================\n",
       "Layer (type:depth-idx)                   Output Shape              Param #\n",
       "==========================================================================================\n",
       "RNNNewsNet                               [64, 4]                   --\n",
       "├─Sequential: 1-1                        [64, 50, 50]              --\n",
       "│    └─Embedding: 2-1                    [64, 50, 50]              4,553,200\n",
       "│    └─LSTM: 2-2                         [64, 50, 50]              61,200\n",
       "├─Dropout: 1-2                           [64, 50, 50]              --\n",
       "├─Sequential: 1-3                        [64, 50, 25]              --\n",
       "│    └─AvgPool1d: 2-3                    [64, 50, 25]              --\n",
       "│    └─LSTM: 2-4                         [64, 50, 25]              10,400\n",
       "├─Dropout: 1-4                           [64, 50, 25]              --\n",
       "├─Sequential: 1-5                        [64, 50, 5]               --\n",
       "│    └─AvgPool1d: 2-5                    [64, 50, 5]               --\n",
       "│    └─LSTM: 2-6                         [64, 50, 5]               240\n",
       "├─Sequential: 1-6                        [64, 4]                   --\n",
       "│    └─Flatten: 2-7                      [64, 250]                 --\n",
       "│    └─Linear: 2-8                       [64, 4]                   1,004\n",
       "==========================================================================================\n",
       "Total params: 4,626,044\n",
       "Trainable params: 4,626,044\n",
       "Non-trainable params: 0\n",
       "Total mult-adds (Units.MEGABYTES): 521.36\n",
       "==========================================================================================\n",
       "Input size (MB): 0.01\n",
       "Forward/backward pass size (MB): 3.33\n",
       "Params size (MB): 18.50\n",
       "Estimated Total Size (MB): 21.85\n",
       "=========================================================================================="
      ]
     },
     "execution_count": 21,
     "metadata": {},
     "output_type": "execute_result"
    }
   ],
   "source": [
    "rnn_model = RNNNewsNet(len(vocab), embedding_dim=GLOVE_DIM, hidden_size=50).to(device)\n",
    "\n",
    "loss_function = nn.CrossEntropyLoss()\n",
    "optimizer = torch.optim.Adam(rnn_model.parameters())\n",
    "\n",
    "input_data, _ = next(iter(train_loader))\n",
    "\n",
    "summary(rnn_model, input_data=input_data.to(device))"
   ]
  },
  {
   "cell_type": "code",
   "execution_count": 22,
   "id": "e7538cf2",
   "metadata": {},
   "outputs": [
    {
     "name": "stdout",
     "output_type": "stream",
     "text": [
      "Epoch: 1\n",
      "Train - Loss: 1303.6374 Accuracy: 0.6393\n",
      "Valid - Loss: 83.0606 Accuracy: 0.8382\n",
      "Epoch: 2\n",
      "Train - Loss: 574.7605 Accuracy: 0.8789\n",
      "Valid - Loss: 60.9830 Accuracy: 0.8888\n",
      "Epoch: 3\n",
      "Train - Loss: 415.2382 Accuracy: 0.9154\n",
      "Valid - Loss: 55.3650 Accuracy: 0.9008\n",
      "Epoch: 4\n",
      "Train - Loss: 331.6104 Accuracy: 0.9336\n",
      "Valid - Loss: 58.9539 Accuracy: 0.8948\n",
      "Epoch: 5\n",
      "Train - Loss: 268.2951 Accuracy: 0.9470\n",
      "Valid - Loss: 55.1264 Accuracy: 0.9065\n"
     ]
    }
   ],
   "source": [
    "epochs = 5\n",
    "\n",
    "for epoch in range(epochs):\n",
    "    print('Epoch: {}'.format(epoch + 1))\n",
    "    train(rnn_model, optimizer, loss_function, train_loader, len(train_dataset))\n",
    "    validate(rnn_model, loss_function, valid_loader, len(valid_dataset))"
   ]
  },
  {
   "cell_type": "markdown",
   "id": "ac5f577c",
   "metadata": {},
   "source": [
    "### Test the Model"
   ]
  },
  {
   "cell_type": "code",
   "execution_count": 23,
   "id": "0408d62a",
   "metadata": {},
   "outputs": [
    {
     "name": "stdout",
     "output_type": "stream",
     "text": [
      "CNN Model: Valid - Loss: 45.0169 Accuracy: 0.9041\n",
      "RNN Model: Valid - Loss: 36.6980 Accuracy: 0.9042\n"
     ]
    }
   ],
   "source": [
    "print(\"CNN Model: \", end=\"\")\n",
    "validate(conv_model, loss_function, test_loader, len(test_dataset))\n",
    "\n",
    "print(\"RNN Model: \", end=\"\")\n",
    "validate(rnn_model, loss_function, test_loader, len(test_dataset))"
   ]
  },
  {
   "cell_type": "markdown",
   "id": "04be4926",
   "metadata": {},
   "source": [
    "### Confusion Matrix"
   ]
  },
  {
   "cell_type": "code",
   "execution_count": 24,
   "id": "f81e26d6",
   "metadata": {},
   "outputs": [],
   "source": [
    "y_pred1 = []\n",
    "y_pred2 = []\n",
    "\n",
    "y_true = []\n",
    "\n",
    "for inputs, labels in test_loader:\n",
    "    output1 = conv_model(inputs.to(device))\n",
    "    output2 = rnn_model(inputs.to(device))\n",
    "    \n",
    "    output1 = (torch.max(torch.exp(output1), 1)[1]).data.cpu().numpy()\n",
    "    output2 = (torch.max(torch.exp(output2), 1)[1]).data.cpu().numpy()\n",
    "    \n",
    "    y_pred1.extend(output1)\n",
    "    y_pred2.extend(output2)\n",
    "    \n",
    "    labels = labels.data.cpu().numpy()\n",
    "    y_true.extend(labels)\n",
    "\n",
    "\n",
    "labels =  [\"World\", \"Sports\", \"Business\", \"Sci/Tech\"]"
   ]
  },
  {
   "cell_type": "markdown",
   "id": "8dcc7e9e",
   "metadata": {},
   "source": [
    "#### Confusion Matrix for Convolutional Network"
   ]
  },
  {
   "cell_type": "code",
   "execution_count": 25,
   "id": "80b0fb57",
   "metadata": {},
   "outputs": [
    {
     "data": {
      "text/plain": [
       "<sklearn.metrics._plot.confusion_matrix.ConfusionMatrixDisplay at 0x1d931aff210>"
      ]
     },
     "execution_count": 25,
     "metadata": {},
     "output_type": "execute_result"
    },
    {
     "data": {
      "image/png": "[encoded data removed]",
      "text/plain": [
       "<Figure size 640x480 with 2 Axes>"
      ]
     },
     "metadata": {},
     "output_type": "display_data"
    }
   ],
   "source": [
    "cf_matrix1 = confusion_matrix(y_true=y_true, y_pred=y_pred1)\n",
    "\n",
    "disp = ConfusionMatrixDisplay(confusion_matrix=cf_matrix1, display_labels=labels)\n",
    "disp.plot()"
   ]
  },
  {
   "cell_type": "markdown",
   "id": "77c55d32",
   "metadata": {},
   "source": [
    "#### Confusion Matrix for Recurrent Network"
   ]
  },
  {
   "cell_type": "code",
   "execution_count": 26,
   "id": "8bf4784d",
   "metadata": {},
   "outputs": [
    {
     "data": {
      "text/plain": [
       "<sklearn.metrics._plot.confusion_matrix.ConfusionMatrixDisplay at 0x1d907ae0a50>"
      ]
     },
     "execution_count": 26,
     "metadata": {},
     "output_type": "execute_result"
    },
    {
     "data": {
      "image/png": "[encoded data removed]",
      "text/plain": [
       "<Figure size 640x480 with 2 Axes>"
      ]
     },
     "metadata": {},
     "output_type": "display_data"
    }
   ],
   "source": [
    "cf_matrix2 = confusion_matrix(y_true=y_true, y_pred=y_pred2)\n",
    "\n",
    "disp = ConfusionMatrixDisplay(confusion_matrix=cf_matrix2, display_labels=labels)\n",
    "disp.plot()"
   ]
  },
  {
   "cell_type": "markdown",
   "id": "35e7bd47",
   "metadata": {},
   "source": [
    "### Text Sampling Function"
   ]
  },
  {
   "cell_type": "markdown",
   "id": "d94b1271",
   "metadata": {},
   "source": [
    "Four real news from an online web page correspond to the headers of articles in the sections World, Sports, Business and Tech."
   ]
  },
  {
   "cell_type": "code",
   "execution_count": 35,
   "id": "ba48bf11",
   "metadata": {},
   "outputs": [],
   "source": [
    "news = [\n",
    "    # Business\n",
    "    \"Trump said he would set a tariff of 25 percent on the country’s largest trading partner if it didn’t close the border, ratcheting up as high as 100 if that didn’t work.\",\n",
    "    # Sports\n",
    "    \"Milwaukee superstar Giannis Antetokounmpo will miss Monday night’s game against the unbeaten Cleveland Cavaliers with a strained adductor muscle, another early-season hiccup for the struggling Bucks\",\n",
    "    # Tech\n",
    "    \"There’s a simple and effective new way to deep clean your privacy and security on Facebook, Google, X and more, from a startup called Block Party.\",\n",
    "    # World\n",
    "    \"Officials say proxies working for Russia were likely behind bombs destined for DHL flights in Europe, and U.S.-bound planes may have been a future target.\",\n",
    "]"
   ]
  },
  {
   "cell_type": "code",
   "execution_count": 36,
   "id": "2272c124",
   "metadata": {},
   "outputs": [],
   "source": [
    "def text_sampling(text_lines):\n",
    "    tensors = text_transforms(text_lines)\n",
    "    tensors = tensors.to(device)\n",
    "    logits = rnn_model(tensors)\n",
    "    _, classes = torch.max(logits, dim=1)\n",
    "    results = []\n",
    "    for clazz in classes:\n",
    "        results.append(labels[clazz])\n",
    "    return results"
   ]
  },
  {
   "cell_type": "code",
   "execution_count": 37,
   "id": "1ee02e56",
   "metadata": {},
   "outputs": [
    {
     "data": {
      "text/plain": [
       "['Business', 'Sports', 'Sci/Tech', 'World']"
      ]
     },
     "execution_count": 37,
     "metadata": {},
     "output_type": "execute_result"
    }
   ],
   "source": [
    "text_sampling(news)"
   ]
  }
 ],
 "metadata": {
  "kernelspec": {
   "display_name": "Python 3",
   "language": "python",
   "name": "python3"
  },
  "language_info": {
   "codemirror_mode": {
    "name": "ipython",
    "version": 3
   },
   "file_extension": ".py",
   "mimetype": "text/x-python",
   "name": "python",
   "nbconvert_exporter": "python",
   "pygments_lexer": "ipython3",
   "version": "3.11.10"
  },
  "varInspector": {
   "cols": {
    "lenName": 16,
    "lenType": 16,
    "lenVar": 40
   },
   "kernels_config": {
    "python": {
     "delete_cmd_postfix": "",
     "delete_cmd_prefix": "del ",
     "library": "var_list.py",
     "varRefreshCmd": "print(var_dic_list())"
    },
    "r": {
     "delete_cmd_postfix": ") ",
     "delete_cmd_prefix": "rm(",
     "library": "var_list.r",
     "varRefreshCmd": "cat(var_dic_list()) "
    }
   },
   "types_to_exclude": [
    "module",
    "function",
    "builtin_function_or_method",
    "instance",
    "_Feature"
   ],
   "window_display": false
  }
 },
 "nbformat": 4,
 "nbformat_minor": 5
}
